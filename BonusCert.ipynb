{
 "cells": [
  {
   "cell_type": "markdown",
   "id": "f013e606",
   "metadata": {},
   "source": [
    "# Bonus certificate calculation"
   ]
  },
  {
   "cell_type": "code",
   "execution_count": 1,
   "id": "90255a4c",
   "metadata": {},
   "outputs": [],
   "source": [
    "from FFTpricing import fft_call_price_bs\n",
    "import pandas as pd\n",
    "import matplotlib.pyplot as plt\n",
    "import numpy as np\n",
    "from scipy.stats import norm"
   ]
  },
  {
   "cell_type": "code",
   "execution_count": 14,
   "id": "4a1db5dd",
   "metadata": {},
   "outputs": [
    {
     "data": {
      "text/plain": [
       "array([ 9.03921056e+02,  8.55881584e+02,  8.07842112e+02,  7.11763168e+02,\n",
       "        9.92505372e+01,  3.60506924e-06, -7.97236623e-16])"
      ]
     },
     "execution_count": 14,
     "metadata": {},
     "output_type": "execute_result"
    }
   ],
   "source": [
    "fft_call_price_bs(1000, 0.04, 0.2, 1, eta=0.01, N=2**20, alpha=1.5,  strike=[100,150,200, 300, 1000, 3000, 10000])"
   ]
  },
  {
   "cell_type": "code",
   "execution_count": null,
   "id": "f09c227c",
   "metadata": {},
   "outputs": [],
   "source": [
    "N=4096*16\n",
    "eta =0.25\n",
    "\n",
    "lambd = 2 * np.pi / (N * eta)\n",
    "b = 0.5 * N * lambd\n",
    "k = -b + lambd * np.arange(N)  # log-strike grid\n",
    "K = np.exp(k) "
   ]
  },
  {
   "cell_type": "code",
   "execution_count": 16,
   "id": "e2a2f24c",
   "metadata": {},
   "outputs": [
    {
     "name": "stdout",
     "output_type": "stream",
     "text": [
      "3.0412377173844148e-28\n"
     ]
    }
   ],
   "source": [
    "K=10000\n",
    "T_BS = 1\n",
    "vol_basket = 0.2\n",
    "ci = 0.04\n",
    "dividend_effective_portfolio = 0\n",
    "# basket price\n",
    "S_basket = 1000\n",
    "\n",
    "# black-scholes\n",
    "d_1 = (np.log(S_basket/K)+(ci-dividend_effective_portfolio+vol_basket**2/2)*T_BS)/(vol_basket*np.sqrt(T_BS))\n",
    "d_2 = d_1 - (vol_basket*np.sqrt(T_BS))\n",
    "\n",
    "call_option = S_basket*np.exp(-dividend_effective_portfolio*T_BS)*norm.cdf(d_1)-K*np.exp(-ci*T_BS)*norm.cdf(d_2)\n",
    "\n",
    "# price of the call option\n",
    "print(call_option)"
   ]
  }
 ],
 "metadata": {
  "kernelspec": {
   "display_name": "Python 3",
   "language": "python",
   "name": "python3"
  },
  "language_info": {
   "codemirror_mode": {
    "name": "ipython",
    "version": 3
   },
   "file_extension": ".py",
   "mimetype": "text/x-python",
   "name": "python",
   "nbconvert_exporter": "python",
   "pygments_lexer": "ipython3",
   "version": "3.12.0"
  }
 },
 "nbformat": 4,
 "nbformat_minor": 5
}
