{
 "cells": [
  {
   "cell_type": "markdown",
   "id": "f013e606",
   "metadata": {},
   "source": [
    "# Bonus certificate calculation"
   ]
  }
 ],
 "metadata": {
  "language_info": {
   "name": "python"
  }
 },
 "nbformat": 4,
 "nbformat_minor": 5
}
