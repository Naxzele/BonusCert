{
 "cells": [
  {
   "cell_type": "markdown",
   "id": "f013e606",
   "metadata": {},
   "source": [
    "# Bonus certificate calculation"
   ]
  },
  {
   "cell_type": "code",
   "execution_count": 1,
   "id": "90255a4c",
   "metadata": {},
   "outputs": [],
   "source": [
    "from FFTpricing import fft_call_price_bs\n",
    "from ClosedFormPrice import formulaBS\n",
    "import pandas as pd\n",
    "import matplotlib.pyplot as plt\n",
    "import numpy as np"
   ]
  },
  {
   "cell_type": "code",
   "execution_count": null,
   "id": "4a1db5dd",
   "metadata": {},
   "outputs": [
    {
     "data": {
      "text/plain": [
       "array([ 2.02955447e+02,  1.54434696e+02,  1.06161395e+02,  2.82402102e+01,\n",
       "        3.78645839e-08, -1.30000409e-16, -2.15860051e-16])"
      ]
     },
     "execution_count": 6,
     "metadata": {},
     "output_type": "execute_result"
    }
   ],
   "source": [
    "fft_call_price_bs(300, 0.04,0.01, 0.2, 1, eta=0.01, N=2**20, alpha=1.5,  strike=[100,150,200, 300, 1000, 3000, 10000])"
   ]
  },
  {
   "cell_type": "code",
   "execution_count": 8,
   "id": "25d4d736",
   "metadata": {},
   "outputs": [
    {
     "data": {
      "text/plain": [
       "27.9592153655926"
      ]
     },
     "execution_count": 8,
     "metadata": {},
     "output_type": "execute_result"
    }
   ],
   "source": [
    "formulaBS(300, 0.04,0.01, 0.2, 1, 300)"
   ]
  }
 ],
 "metadata": {
  "kernelspec": {
   "display_name": "Python 3",
   "language": "python",
   "name": "python3"
  },
  "language_info": {
   "codemirror_mode": {
    "name": "ipython",
    "version": 3
   },
   "file_extension": ".py",
   "mimetype": "text/x-python",
   "name": "python",
   "nbconvert_exporter": "python",
   "pygments_lexer": "ipython3",
   "version": "3.12.0"
  }
 },
 "nbformat": 4,
 "nbformat_minor": 5
}
